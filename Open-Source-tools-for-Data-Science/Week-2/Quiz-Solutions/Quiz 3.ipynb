{
 "cells": [
  {
   "cell_type": "markdown",
   "metadata": {},
   "source": [
    "# Quiz 3 - Zeppelin Notebooks\n",
    "TOTAL POINTS 5"
   ]
  },
  {
   "cell_type": "markdown",
   "metadata": {},
   "source": [
    "## 1. Question 1\n",
    "\n",
    "### Apache Zeppelin lets you:\n",
    "\n",
    "Document your code.\n",
    "Display your output.\n",
    "Show your visualizations within the Zeppelin notebook.\n",
    "Switch between multiple languages.\n",
    "All of the above\n",
    "None of the above\n",
    "\n",
    "### Ans: All of the above\n",
    "\n",
    "## 2. Question 2\n",
    "\n",
    "### Which IS NOT an interpreter supported by Zeppelin?\n",
    "\n",
    "Apache Spark\n",
    "Python\n",
    "Markdown\n",
    "Shell\n",
    "Matlab\n",
    "\n",
    "### Ans: Matlab\n",
    "\n",
    "## 3. Question 3\n",
    "\n",
    "### Major benefits to using Zeppelin over Jupyter notebooks include:\n",
    "\n",
    "Some visualizations are automatically generated in Zeppelin, thus minimizing code required\n",
    "You can use multiple languages in the same notebook in Zeppelin, but not in Jupyter\n",
    "Both of the above\n",
    "\n",
    "### Ans: Both of the above\n",
    "\n",
    "\n",
    "## 4. Question 4\n",
    "\n",
    "### True or False? You cannot customize the width of your cells in a Zeppelin notebook.\n",
    "\n",
    "True\n",
    "False\n",
    "\n",
    "### Ans: False\n",
    "\n",
    "## 5.Question 5\n",
    "\n",
    "### True or False? You can use multiple programming languages within the same Zeppelin notebook, and they can even operate on the same data.\n",
    "\n",
    "True\n",
    "False\n",
    "\n",
    "### Ans: True"
   ]
  },
  {
   "cell_type": "code",
   "execution_count": null,
   "metadata": {},
   "outputs": [],
   "source": []
  }
 ],
 "metadata": {
  "kernelspec": {
   "display_name": "Python 3.6 with Spark",
   "language": "python3",
   "name": "python36"
  },
  "language_info": {
   "codemirror_mode": {
    "name": "ipython",
    "version": 3
   },
   "file_extension": ".py",
   "mimetype": "text/x-python",
   "name": "python",
   "nbconvert_exporter": "python",
   "pygments_lexer": "ipython3",
   "version": "3.6.8"
  }
 },
 "nbformat": 4,
 "nbformat_minor": 1
}
