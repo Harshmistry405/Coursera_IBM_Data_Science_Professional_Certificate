{
 "cells": [
  {
   "cell_type": "markdown",
   "metadata": {},
   "source": [
    "# Quiz 4 - RStudio IDE\n",
    "TOTAL POINTS 5"
   ]
  },
  {
   "cell_type": "markdown",
   "metadata": {},
   "source": [
    "## 1. Question 1\n",
    "\n",
    "### RStudio IDE allows you to…\n",
    "\n",
    "Analyze data\n",
    "See your console\n",
    "Visualize your plots and graphs\n",
    "All of the above\n",
    "\n",
    "### Ans: All of the above\n",
    "\n",
    "## 2. Question 2\n",
    "\n",
    "### The reason why 'sc' is one of the default variables in RStudio IDE on Skills Network Labs is because:\n",
    "\n",
    "A.\t\"sc\" stands for \"SuperComputer\" and was created by default to help users analyze big data\n",
    "B.\t\"sc\" stands for \"SparkContext\" and is created by default to enable users to use Apache Spark from RStudio IDE.\n",
    "C.\tIt's actually a bug and should not have been created by default.\n",
    "D.\tNone of the above\n",
    "\n",
    "### Ans: B\n",
    "\n",
    "## 3. Question 3\n",
    "\n",
    "### What are ways that you can execute R code in RStudio?\n",
    "\n",
    "A. From the console only\n",
    "B. From the script editor only\n",
    "C. From the script editor & console\n",
    "D. From the script editor, console & global environments tab\n",
    "\n",
    "### Ans: C\n",
    "\n",
    "## 4. Question 4\n",
    "\n",
    "### True or False? You can view a history of code you have previously executed on RStudio IDE.\n",
    "\n",
    "True\n",
    "False\n",
    "\n",
    "### Ans: True\n",
    "\n",
    "## 5. Question 5\n",
    "\n",
    "### Which of the following options are True? Select all that apply:\n",
    "\n",
    "A.\tYou can execute Python, R or Scala code in RStudio.\n",
    "B.\tRStudio keeps track of the variables you've assigned in the \"Packages\" window.\n",
    "C.\tYou can create maps in RStudio, but they are not interactive (e.g., you cannot zoom in or out of the maps).\n",
    "D.\tYou can use built-in datasets (\"dataframes\") in RStudio, such as \"mtcars\".\n",
    "\n",
    "### Ans: D\n"
   ]
  },
  {
   "cell_type": "code",
   "execution_count": null,
   "metadata": {},
   "outputs": [],
   "source": []
  }
 ],
 "metadata": {
  "kernelspec": {
   "display_name": "Python 3.6 with Spark",
   "language": "python3",
   "name": "python36"
  },
  "language_info": {
   "codemirror_mode": {
    "name": "ipython",
    "version": 3
   },
   "file_extension": ".py",
   "mimetype": "text/x-python",
   "name": "python",
   "nbconvert_exporter": "python",
   "pygments_lexer": "ipython3",
   "version": "3.6.8"
  }
 },
 "nbformat": 4,
 "nbformat_minor": 1
}
