{
 "cells": [
  {
   "cell_type": "markdown",
   "metadata": {},
   "source": [
    "# Quiz 1 - Skills Network Labs\n",
    "TOTAL POINTS 5"
   ]
  },
  {
   "cell_type": "markdown",
   "metadata": {},
   "source": [
    "## 1. Question 1\n",
    "\n",
    "### What is Skills Network Labs?\n",
    "\n",
    "An environment that saves time: from installing, configuring and maintaining tools\n",
    "A web-based environment that data science practitioners and enthusiasts alike can use for free\n",
    "An online virtual lab environment that includes several open data science tools in the cloud\n",
    "All of the above\n",
    "\n",
    "### Ans: All of the above\n",
    "\n",
    "## 2. Question 2\n",
    "\n",
    "### Skills Network Labs provides an integrated environment to…\n",
    "\n",
    "Learn and try various, popular data science tools\n",
    "Use tools such as Python and Scala\n",
    "Use tools such as R and Spark\n",
    "Save you time without needing to install and configure these tools\n",
    "All of the above\n",
    "\n",
    "### Ans: All of the above\n",
    "\n",
    "## 3. Question 3\n",
    "\n",
    "### Zeppelin and Jupyter Notebooks are great for …\n",
    "\n",
    "Interactive Data Analytics\n",
    "Analyzing data only\n",
    "Visualizing data only\n",
    "Cleaning data only\n",
    "\n",
    "### Ans: Interactive Data Analytics\n",
    "\n",
    "## 4. Question 4\n",
    "\n",
    "### Which of the following feature of RStudio specifically enables you to create interactive apps or visualizations?\n",
    "Shiny\n",
    "Apache Spark\n",
    "Text Editor\n",
    "None of the above\n",
    "\n",
    "### Ans: Shiny\n",
    "\n",
    "## 5. Question 5\n",
    "\n",
    "### True or False: Basic charts are already included in Apache Zeppelin, allowing you to convert data tables directly into visualizations without any code.\n",
    "\n",
    "True\n",
    "False\n",
    "\n",
    "### Ans: True"
   ]
  }
 ],
 "metadata": {
  "kernelspec": {
   "display_name": "Python 3.6 with Spark",
   "language": "python3",
   "name": "python36"
  },
  "language_info": {
   "codemirror_mode": {
    "name": "ipython",
    "version": 3
   },
   "file_extension": ".py",
   "mimetype": "text/x-python",
   "name": "python",
   "nbconvert_exporter": "python",
   "pygments_lexer": "ipython3",
   "version": "3.6.8"
  }
 },
 "nbformat": 4,
 "nbformat_minor": 1
}
