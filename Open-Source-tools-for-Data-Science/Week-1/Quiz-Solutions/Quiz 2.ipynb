{
 "cells": [
  {
   "cell_type": "markdown",
   "metadata": {},
   "source": [
    "# Quiz 2 - Jupyter Notebooks\n",
    "TOTAL POINTS 5"
   ]
  },
  {
   "cell_type": "markdown",
   "metadata": {},
   "source": [
    "\n",
    "## 1. Question 1\n",
    "\n",
    "### What can you write in Jupyter Notebooks? Select all that apply:\n",
    "\n",
    "A.\tCode to be executed in one of the kernels (e.g. Python, R or Scala)\n",
    "B.\tStylized text in a format called \"Markdown\".\n",
    "C.\tHTML code -- HTML can be written and rendered via Markdown cells.\n",
    "\n",
    "### Ans: ABC\n",
    "\n",
    "## 2. Question 2\n",
    "\n",
    "### What were Jupyter notebooks called before the name was changed to “Jupyter”?\n",
    "\n",
    "IPython notebooks\n",
    "IScala notebooks\n",
    "IR notebooks\n",
    "Saturn notebooks\n",
    "None of the above\n",
    "\n",
    "### Ans: IPython notebooks\n",
    "\n",
    "## 3. Question 3\n",
    "\n",
    "### True or False? If you wrote \"# Hi there\" in Markdown, this would be the equivalent of writing <h1>Hi there</h1> in HTML. (If you're not sure, now is a good time to search for a Markdown guide!)\n",
    "\n",
    "False\n",
    "True\n",
    "\n",
    "### Ans: True\n",
    "\n",
    "## 4. Question 4\n",
    "\n",
    "### Which of the following options are TRUE? Select all that apply.\n",
    "\n",
    "A.\tYou can download and save Jupyter Notebooks as .ipynb files.\n",
    "B.\tYou can change kernels within a Jupyter Notebook (e.g., to R or Python or Scala).\n",
    "C.\tYou can document your code with stylized text using a formatting style called \"Markleft\"\n",
    "D.\tYou can connect to databases from within Jupyter Notebooks.\n",
    "\n",
    "### Ans: ABD\n",
    "\n",
    "## 5. Question 5\n",
    "\n",
    "### True or False? Although you can change the kernel of the Jupyter Notebook between different programming languages (e.g., Python, R, Scala), you cannot use multiple kernels within the same Jupyter notebook (e.g., running Python, R and Scala within the same notebook).\n",
    "\n",
    "True\n",
    "False\n",
    "\n",
    "### Ans: True"
   ]
  }
 ],
 "metadata": {
  "kernelspec": {
   "display_name": "Python 3.6 with Spark",
   "language": "python3",
   "name": "python36"
  },
  "language_info": {
   "codemirror_mode": {
    "name": "ipython",
    "version": 3
   },
   "file_extension": ".py",
   "mimetype": "text/x-python",
   "name": "python",
   "nbconvert_exporter": "python",
   "pygments_lexer": "ipython3",
   "version": "3.6.8"
  }
 },
 "nbformat": 4,
 "nbformat_minor": 1
}
