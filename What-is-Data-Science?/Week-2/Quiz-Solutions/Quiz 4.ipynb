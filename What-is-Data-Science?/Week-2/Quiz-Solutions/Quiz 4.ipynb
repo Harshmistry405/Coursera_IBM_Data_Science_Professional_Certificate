{
 "cells": [
  {
   "attachments": {},
   "cell_type": "markdown",
   "metadata": {},
   "source": [
    "## Regression\n",
    "\n",
    "TOTAL POINTS 5\n",
    "\n",
    "### 1. Question 1\n",
    "\n",
    "### The real added value of the author's research on residential real estate properties is quantifying people's preferences of different transport services.\n",
    "\n",
    "* True.\n",
    "* False.\n",
    "\n",
    "### Ans: False\n",
    "\n",
    "### 2. Question 2\n",
    "\n",
    "### Regression is a statistical technique developed by Blaise Pascal.\n",
    "\n",
    "* False.\n",
    "* True.\n",
    "\n",
    "### Ans: False\n",
    "\n",
    "### 3. Question 3\n",
    "\n",
    "### What did the author's research discover about the impact of an additional washroom on the price of a housing unit?\n",
    "\n",
    "* A.\tThe author found that an additional bedroom adds more to the housing prices than an additional washroom.\n",
    "* B.\tThe author found that an additional washroom did not have any impact on the pricing of a housing unit.\n",
    "* C.\tThe author found that an additional washroom adds more to the housing prices than an additional bedroom. \n",
    "* D.\tThe author found that an additional bedroom adds the same to the housing prices than an additional washroom. In other words, any additional room results in an equal increase to the housing prices.\n",
    "\n",
    "### Ans: C\n",
    "\n",
    "### 4. Question 4\n",
    "\n",
    "### The author discovered that, all else being equal, houses located less than 5 kms but more than 2 kms to shopping centres sold for more than the rest.\n",
    "\n",
    "* True.\n",
    "* False.\n",
    "\n",
    "### Ans: True\n",
    "\n",
    "### 5.Question 5\n",
    "\n",
    "### Based on the reading, which of the following are questions that can be put to regression analysis?\n",
    "\n",
    "* A. What are typical land taxes in a house sale?\n",
    "* B. Do homes with brick exterior sell in rural areas?\n",
    "* C. Do homes with brick exterior sell for less than homes with stone exterior?\n",
    "* D. What is the impact of lot size on housing price?\n",
    "\n",
    "### Ans: CD"
   ]
  }
 ],
 "metadata": {
  "kernelspec": {
   "display_name": "Python 3.6 with Spark",
   "language": "python3",
   "name": "python36"
  },
  "language_info": {
   "codemirror_mode": {
    "name": "ipython",
    "version": 3
   },
   "file_extension": ".py",
   "mimetype": "text/x-python",
   "name": "python",
   "nbconvert_exporter": "python",
   "pygments_lexer": "ipython3",
   "version": "3.6.8"
  }
 },
 "nbformat": 4,
 "nbformat_minor": 1
}
