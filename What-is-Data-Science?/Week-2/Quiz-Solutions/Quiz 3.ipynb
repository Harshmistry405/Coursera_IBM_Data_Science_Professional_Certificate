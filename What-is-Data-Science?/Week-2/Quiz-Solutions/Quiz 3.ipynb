{
 "cells": [
  {
   "attachments": {},
   "cell_type": "markdown",
   "metadata": {},
   "source": [
    "## Data Mining\n",
    "\n",
    "TOTAL POINTS 5\n",
    "\n",
    "### 1. Question 1\n",
    "\n",
    "### According to the reading, the output of a data mining exercise largely depends on:\n",
    "\n",
    "* The quality of the data.\n",
    "* The data scientist.\n",
    "* The scope of the project.\n",
    "* The programming language used.\n",
    "\n",
    "### Ans: The quality of the data.\n",
    "\n",
    "### 2. Question 2\n",
    "\n",
    "### When data are missing in a systematic way, you can simply extrapolate the data or impute the missing data by filling in the average of the values around the missing data.\n",
    "\n",
    "* False.\n",
    "* True.\n",
    "\n",
    "### Ans: True\n",
    "\n",
    "### 3. Question 3\n",
    "\n",
    "### What is an example of a data reduction algorithm?\n",
    "\n",
    "* Prior Variable Analysis.\n",
    "* Conjoint Analysis.\n",
    "* A/B Testing.\n",
    "* Principal Component Analysis.\n",
    "\n",
    "### Ans: Principal Component Analysis.\n",
    "\n",
    "### 4. Question 4\n",
    "\n",
    "### After the data are appropriately processed, transformed, and stored, machine learning and non-parametric methods are a good starting point for data mining.\n",
    "\n",
    "* True.\n",
    "* False.\n",
    "\n",
    "### Ans: True\n",
    "\n",
    "### 5. Question 5\n",
    "\n",
    "### In-sample forecast is the process of formally evaluating the predictive capabilities of the models developed using observed data to see how effective the algorithms are in reproducing data.\n",
    "\n",
    "* False.\n",
    "* True.\n",
    "\n",
    "### Ans: True"
   ]
  }
 ],
 "metadata": {
  "kernelspec": {
   "display_name": "Python 3.6 with Spark",
   "language": "python3",
   "name": "python36"
  },
  "language_info": {
   "codemirror_mode": {
    "name": "ipython",
    "version": 3
   },
   "file_extension": ".py",
   "mimetype": "text/x-python",
   "name": "python",
   "nbconvert_exporter": "python",
   "pygments_lexer": "ipython3",
   "version": "3.6.8"
  }
 },
 "nbformat": 4,
 "nbformat_minor": 1
}
