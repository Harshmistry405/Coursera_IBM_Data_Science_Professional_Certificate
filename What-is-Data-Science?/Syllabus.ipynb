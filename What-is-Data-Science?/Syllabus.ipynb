{
 "cells": [
  {
   "attachments": {},
   "cell_type": "markdown",
   "metadata": {},
   "source": [
    "### Module 1 - Defining Data Science\n",
    "\n",
    "* What is Data Science?\n",
    "* The Many Paths to Data Science\n",
    "* Advice for New Data Scientists\n",
    "* Reading: \"Data Science: The Sexiest Job in the 21st Century\"\n",
    "* Quiz: \"Data Science: The Sexiest Job in the 21st Century\"\n",
    "\n",
    "### Module 2 - What Do Data Scientists Do?\n",
    "\n",
    "* A day in the Life of a Data Scientist\n",
    "* Data Science Topics and Algorithms\n",
    "* What is the Cloud?\n",
    "* Reading: \"What Makes Someone a Data Scientist\"\n",
    "* Quiz: \"What Makes Someone a Data Scientist\"\n",
    "\n",
    "### Module 3 - Data Science in Business\n",
    "\n",
    "* How Should Companies Get Started in Data Science?\n",
    "* Recruiting Data Science\n",
    "* Applications of Data Science\n",
    "* Reading: \"Regression\"\n",
    "* Quiz: \"Regression\"\n",
    "\n",
    "### Module 4 - Data Science Topics\n",
    "\n",
    "* Data Scientists at New York University\n",
    "* Data Science Skills & Big Data\n",
    "* What is Hadoop?\n",
    "* Reading: \"Data Mining\"\n",
    "* Quiz: \"Data Mining\"\n",
    "\n",
    "### Module 5 - Data Science Topics (Cont'd)\n",
    "\n",
    "* Neural Networks and Deep Learning\n",
    "* How Can Someone Become a Data Scientist?\n",
    "* High School Students and Data Science Careers\n",
    "* Applications of Machine Learning\n",
    "* Reading: \"The Final Deliverable\"\n",
    "* Quiz: \"The Final Deliverable\"\n",
    "\n",
    "### Module 6 - Final Assignment\n",
    "\n",
    "* Reading: \"The Report Structure\"\n",
    "* Quiz: \"The Report Structure\"\n",
    "* Final Assignment\n"
   ]
  }
 ],
 "metadata": {
  "kernelspec": {
   "display_name": "Python 3.6 with Spark",
   "language": "python3",
   "name": "python36"
  },
  "language_info": {
   "codemirror_mode": {
    "name": "ipython",
    "version": 3
   },
   "file_extension": ".py",
   "mimetype": "text/x-python",
   "name": "python",
   "nbconvert_exporter": "python",
   "pygments_lexer": "ipython3",
   "version": "3.6.8"
  }
 },
 "nbformat": 4,
 "nbformat_minor": 1
}
