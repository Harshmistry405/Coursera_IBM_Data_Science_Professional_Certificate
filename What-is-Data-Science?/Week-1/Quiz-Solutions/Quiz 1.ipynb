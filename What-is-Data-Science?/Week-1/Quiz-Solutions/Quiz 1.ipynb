{
 "cells": [
  {
   "attachments": {},
   "cell_type": "markdown",
   "metadata": {},
   "source": [
    "## Data Science: The Sexiest Job in the 21st Century\n",
    "TOTAL POINTS 5\n",
    "\n",
    "### 1. Question 1\n",
    "\n",
    "### Harvard Business Review called data science the sexiest job in the 21st century.\n",
    "\n",
    "True.\n",
    "False.\n",
    "\n",
    "### Ans: True\n",
    "\n",
    "### 2. Question 2\n",
    "\n",
    "### According to the report by the McKinsey Global Institute, by 2018, it is projected that there will be a shortage of 140,000 – 190,000 people with deep analytical skills in the world.\n",
    "\n",
    "False.\n",
    "True.\n",
    "\n",
    "### Ans: False\n",
    "\n",
    "### 3. Question 3\n",
    "\n",
    "### Walmart addressed its analytical needs by approaching Kaggle to host a competition for analyzing its proprietary data.\n",
    "\n",
    "True.\n",
    "False.\n",
    "\n",
    "### Ans: True\n",
    "\n",
    "### 4. Question 4\n",
    "\n",
    "### What is the average base salary of a data scientist reported by the New York Times?\n",
    "\n",
    "$100,000\n",
    "$150,000\n",
    "$112,000\n",
    "$16 per hour\n",
    "$85,000 + Bonus\n",
    "\n",
    "### Ans: $112,000\n",
    "\n",
    "\n",
    "## 5. Question 5\n",
    "\n",
    "### According to professor Haider, the three important qualities to possess in order to succeed as a data scientist are curious, judgemental, and proficient in programming.\n",
    "\n",
    "False.\n",
    "True.\n",
    "\n",
    "### Ans: False"
   ]
  }
 ],
 "metadata": {
  "kernelspec": {
   "display_name": "Python 3.6 with Spark",
   "language": "python3",
   "name": "python36"
  },
  "language_info": {
   "codemirror_mode": {
    "name": "ipython",
    "version": 3
   },
   "file_extension": ".py",
   "mimetype": "text/x-python",
   "name": "python",
   "nbconvert_exporter": "python",
   "pygments_lexer": "ipython3",
   "version": "3.6.8"
  }
 },
 "nbformat": 4,
 "nbformat_minor": 1
}
