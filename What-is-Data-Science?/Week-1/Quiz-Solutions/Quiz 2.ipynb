{
 "cells": [
  {
   "attachments": {},
   "cell_type": "markdown",
   "metadata": {},
   "source": [
    "## What Makes Someone a Data Scientist?\n",
    "\n",
    "TOTAL POINTS 5\n",
    "\n",
    "### 1. Question 1\n",
    "\n",
    "### Hal Varian, the chief economist at Google, declared that \"the sexy job in the next ten years will be ___________________\".\n",
    "\n",
    "Statisticians.\n",
    "Engineers.\n",
    "Computer Scientists.\n",
    "Physicists.\n",
    "\n",
    "### Ans: Statisticians\n",
    "\n",
    "### 2. Question 2\n",
    "\n",
    "### The author defines a data scientist as someone who finds solutions to problems by analyzing data using appropriate tool and then tells stories to communicate their finding to the relevant stakeholders.\n",
    "\n",
    "False.\n",
    "True.\n",
    "\n",
    "### Ans: True\n",
    "\n",
    "### 3. Question 3\n",
    "\n",
    "### According to the reading, how does the author define data science?\n",
    "\n",
    "Data science is the art of uncovering the hidden secrets in data.\n",
    "Data science is some data and more science.\n",
    "Data science is what data scientists do.\n",
    "Data science is a way of understanding things and understanding the world.\n",
    "Data science is a physical science like physics or chemistry\n",
    "\n",
    "### Ans: Data science is what data scientists do.\n",
    "\n",
    "### 4. Question 4\n",
    "\n",
    "### According to the reading, what is admirable about Dr. Patil’s definition of a data scientist?\n",
    "\n",
    "His definition limits data science to activities involving machine learning.\n",
    "His definition is about weaving strong narratives into analytics.\n",
    "His definition is inclusive of individuals from various academic backgrounds and training.\n",
    "His definition excludes statistics.\n",
    "\n",
    "### Ans: His definition is inclusive of individuals from various academic backgrounds and training.\n",
    "\n",
    "### 5. Question 5\n",
    "\n",
    "### According to the reading, the characteristics exhibited by the best data scientists are those who are curious, ask good questions, and have at least 10 years of experience.\n",
    "\n",
    "True.\n",
    "False.\n",
    "\n",
    "### Ans: False"
   ]
  }
 ],
 "metadata": {
  "kernelspec": {
   "display_name": "Python 3.6 with Spark",
   "language": "python3",
   "name": "python36"
  },
  "language_info": {
   "codemirror_mode": {
    "name": "ipython",
    "version": 3
   },
   "file_extension": ".py",
   "mimetype": "text/x-python",
   "name": "python",
   "nbconvert_exporter": "python",
   "pygments_lexer": "ipython3",
   "version": "3.6.8"
  }
 },
 "nbformat": 4,
 "nbformat_minor": 1
}
