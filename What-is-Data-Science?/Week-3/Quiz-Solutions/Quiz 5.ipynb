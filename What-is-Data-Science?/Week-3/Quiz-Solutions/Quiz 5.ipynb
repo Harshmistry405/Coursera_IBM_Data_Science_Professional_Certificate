{
 "cells": [
  {
   "attachments": {},
   "cell_type": "markdown",
   "metadata": {},
   "source": [
    "## The Final Deliverable\n",
    "\n",
    "TOTAL POINTS 5\n",
    "\n",
    "### 1. Question 1\n",
    "\n",
    "### The ultimate purpose of analytics is to communicate findings to stakeholders to formulate policy or strategy.\n",
    "\n",
    "* False.\n",
    "* True.\n",
    "\n",
    "### Ans: True\n",
    "\n",
    "### 2. Question 2\n",
    "\n",
    "### The reading mentions a common role of a data scientist is to use analytics insights to build a narrative to communicate findings to stakeholders.\n",
    "\n",
    "* True.\n",
    "* False.\n",
    "\n",
    "### Ans: True\n",
    "\n",
    "### 3. Question 3\n",
    "\n",
    "### The United States Economic Forecast is a publication by:\n",
    "\n",
    "* Deloitte University Press\n",
    "* McKinsey Publication Inc.\n",
    "* McGraw-Hill Education.\n",
    "* Cambridge University Press.\n",
    "\n",
    "### Ans: Deloitte University Press\n",
    "\n",
    "### 4. Question 4\n",
    "\n",
    "### The report discussed in the reading successfully did the job of:\n",
    "\n",
    "* Convincing the leadership team to act on an initiative.\n",
    "* Using data and analytics to generate the likely economic scenarios.\n",
    "* Calculating projections for the economy.\n",
    "* Summarizing pages and pages of research.\n",
    "\n",
    "### Ans: Using data and analytics to generate the likely economic scenarios.\n",
    "\n",
    "### 5. Question 5\n",
    "\n",
    "### According to the reading, in order to produce a compelling narrative, initial planning and conceptualizing of the final deliverable is of extreme importance.\n",
    "\n",
    "* False.\n",
    "* True.\n",
    "\n",
    "### Ans: True"
   ]
  }
 ],
 "metadata": {
  "kernelspec": {
   "display_name": "Python 3.6 with Spark",
   "language": "python3",
   "name": "python36"
  },
  "language_info": {
   "codemirror_mode": {
    "name": "ipython",
    "version": 3
   },
   "file_extension": ".py",
   "mimetype": "text/x-python",
   "name": "python",
   "nbconvert_exporter": "python",
   "pygments_lexer": "ipython3",
   "version": "3.6.8"
  }
 },
 "nbformat": 4,
 "nbformat_minor": 1
}
