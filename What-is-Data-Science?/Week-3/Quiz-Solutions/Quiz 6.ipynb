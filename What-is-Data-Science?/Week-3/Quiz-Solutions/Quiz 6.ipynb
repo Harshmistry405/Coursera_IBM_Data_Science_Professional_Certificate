{
 "cells": [
  {
   "attachments": {},
   "cell_type": "markdown",
   "metadata": {},
   "source": [
    "## The Report Structure\n",
    "\n",
    "TOTAL POINTS 5\n",
    "\n",
    "### 1. Question 1\n",
    "\n",
    "### Regardless of the length of the final deliverable, the author recommends that it includes a cover page, table of contents, executive summary, detailed contents, acknowledgments, and references.\n",
    "\n",
    "* True.\n",
    "* False.\n",
    "\n",
    "### Ans: True\n",
    "\n",
    "### 2. Question 2\n",
    "\n",
    "### An introductory section is always helpful in introducing the research methods and presenting the statistical calculations.\n",
    "\n",
    "* False.\n",
    "* True.\n",
    "\n",
    "### Ans: True\n",
    "\n",
    "### 3. Question 3\n",
    "\n",
    "### The results section is where you craft your main arguments and present your conclusion.\n",
    "\n",
    "* False.\n",
    "* True.\n",
    "\n",
    "### Ans: False\n",
    "\n",
    "### 4. Question 4\n",
    "\n",
    "### The discussion section is where you:\n",
    "\n",
    "* A.\tRefer the reader to the research question and the knowledge gaps you identified earlier.\n",
    "* B.\tRely on the power of narrative to enable numbers to communicate your important findings to the readers.\n",
    "* C.\tHighlight how your findings provide the ultimate missing piece to the puzzle.\n",
    "* D.\tIntroduce the research methods and data sources used for the analysis.\n",
    "\n",
    "### Ans: A, B, C\n",
    "\n",
    "### 5. Question 5\n",
    "\n",
    "### Adding a list of references and an acknowledgment section are examples of housekeeping, according to the author.\n",
    "\n",
    "* False.\n",
    "* True.\n",
    "\n",
    "### Ans: True"
   ]
  }
 ],
 "metadata": {
  "kernelspec": {
   "display_name": "Python 3.6 with Spark",
   "language": "python3",
   "name": "python36"
  },
  "language_info": {
   "codemirror_mode": {
    "name": "ipython",
    "version": 3
   },
   "file_extension": ".py",
   "mimetype": "text/x-python",
   "name": "python",
   "nbconvert_exporter": "python",
   "pygments_lexer": "ipython3",
   "version": "3.6.8"
  }
 },
 "nbformat": 4,
 "nbformat_minor": 1
}
