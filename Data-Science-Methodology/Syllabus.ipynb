{
 "cells": [
  {
   "cell_type": "markdown",
   "metadata": {},
   "source": [
    "### Module 1: From Problem to Approach and from Requirements to Collection\n",
    "\n",
    "* Business Understanding\n",
    "* Analytic Approach\n",
    "* Data Requirements\n",
    "* Data Collection\n",
    "* Lab: From Problem to Approach\n",
    "* Lab: From Requirement to Collection\n",
    "* Quiz: From Problem to Approach\n",
    "* Quiz: From Requirement to Collection\n",
    "\n",
    "### Module 2: From Understanding to Preparation and from Modeling to Evaluation\n",
    "\n",
    "* Data Understanding\n",
    "* Data Preparation\n",
    "* Modeling\n",
    "* Evaluation\n",
    "* Lab: From Understanding to Preparation\n",
    "* Lab: From Modeling to Evaluation\n",
    "* Quiz: From Understanding to Preparation\n",
    "* Quiz: From Modeling to Evaluation\n",
    "\n",
    "### Module 3: From Deployment to Feedback\n",
    "\n",
    "* Deployment\n",
    "* Feedback\n",
    "* Quiz: From Deployment to Feedback\n",
    "* Peer-review Assignment"
   ]
  }
 ],
 "metadata": {
  "kernelspec": {
   "display_name": "Python 3.6 with Spark",
   "language": "python3",
   "name": "python36"
  },
  "language_info": {
   "codemirror_mode": {
    "name": "ipython",
    "version": 3
   },
   "file_extension": ".py",
   "mimetype": "text/x-python",
   "name": "python",
   "nbconvert_exporter": "python",
   "pygments_lexer": "ipython3",
   "version": "3.6.8"
  }
 },
 "nbformat": 4,
 "nbformat_minor": 1
}
